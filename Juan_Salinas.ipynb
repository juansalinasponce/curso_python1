{
  "nbformat": 4,
  "nbformat_minor": 0,
  "metadata": {
    "colab": {
      "name": "Juan_Salinas.ipynb",
      "provenance": [],
      "authorship_tag": "ABX9TyNSxcw+yrUAoMxdKXjze4IF",
      "include_colab_link": true
    },
    "kernelspec": {
      "name": "python3",
      "display_name": "Python 3"
    },
    "language_info": {
      "name": "python"
    }
  },
  "cells": [
    {
      "cell_type": "markdown",
      "metadata": {
        "id": "view-in-github",
        "colab_type": "text"
      },
      "source": [
        "<a href=\"https://colab.research.google.com/github/juansalinasponce/curso_python1/blob/main/Juan_Salinas.ipynb\" target=\"_parent\"><img src=\"https://colab.research.google.com/assets/colab-badge.svg\" alt=\"Open In Colab\"/></a>"
      ]
    },
    {
      "cell_type": "code",
      "metadata": {
        "colab": {
          "base_uri": "https://localhost:8080/"
        },
        "id": "AMzN5anjd4kR",
        "outputId": "0a5f3c6a-d5b2-4b32-d6f8-ee26a7101187"
      },
      "source": [
        "x = 8 #1\n",
        "nombre = \"Juan\"#2\n",
        "#x = nombre #3\n",
        "y = x #4\n",
        "\n",
        "print(\"Elvalor de y es :\", y)"
      ],
      "execution_count": null,
      "outputs": [
        {
          "output_type": "stream",
          "text": [
            "Elvalor de y es : 8\n"
          ],
          "name": "stdout"
        }
      ]
    },
    {
      "cell_type": "code",
      "metadata": {
        "colab": {
          "base_uri": "https://localhost:8080/"
        },
        "id": "qEoBWh1mjLB8",
        "outputId": "76c3b9f8-e018-4280-a018-ff5f9d3aa581"
      },
      "source": [
        "#Tipo Bool\n",
        "variable_verdadera = True\n",
        "Variable_falsa = False\n",
        "\n",
        "type(variable_verdadera = True)"
      ],
      "execution_count": null,
      "outputs": [
        {
          "output_type": "execute_result",
          "data": {
            "text/plain": [
              "int"
            ]
          },
          "metadata": {
            "tags": []
          },
          "execution_count": 14
        }
      ]
    },
    {
      "cell_type": "code",
      "metadata": {
        "colab": {
          "base_uri": "https://localhost:8080/"
        },
        "id": "xho8WFKmkcsK",
        "outputId": "e4a8edce-19d2-408f-d424-82ff7ee06c6b"
      },
      "source": [
        "\n",
        "bool(25)"
      ],
      "execution_count": null,
      "outputs": [
        {
          "output_type": "execute_result",
          "data": {
            "text/plain": [
              "True"
            ]
          },
          "metadata": {
            "tags": []
          },
          "execution_count": 16
        }
      ]
    },
    {
      "cell_type": "code",
      "metadata": {
        "colab": {
          "base_uri": "https://localhost:8080/"
        },
        "id": "F4Ox_FLblS_q",
        "outputId": "ed27c03d-1802-4d87-cf7a-bdebdc5485c3"
      },
      "source": [
        "# Numero binario\n",
        "\n",
        "Binario = 0b1111\n",
        "Binario"
      ],
      "execution_count": null,
      "outputs": [
        {
          "output_type": "execute_result",
          "data": {
            "text/plain": [
              "15"
            ]
          },
          "metadata": {
            "tags": []
          },
          "execution_count": 18
        }
      ]
    },
    {
      "cell_type": "code",
      "metadata": {
        "colab": {
          "base_uri": "https://localhost:8080/"
        },
        "id": "WokpuZVplnrX",
        "outputId": "3cb1d270-7069-4526-ca12-58870d6b871b"
      },
      "source": [
        "cadena = \"esto es una cadena de texto\"\n",
        "type(cadena)"
      ],
      "execution_count": null,
      "outputs": [
        {
          "output_type": "execute_result",
          "data": {
            "text/plain": [
              "str"
            ]
          },
          "metadata": {
            "tags": []
          },
          "execution_count": 20
        }
      ]
    },
    {
      "cell_type": "code",
      "metadata": {
        "colab": {
          "base_uri": "https://localhost:8080/"
        },
        "id": "-smZ529slt-Y",
        "outputId": "1b77c902-4238-4fd2-8dae-a9beb4ef358d"
      },
      "source": [
        "cadena1 = 10\n",
        "cadena = cadena1 + 1\n",
        "type(cadena)\n",
        "cadena\n"
      ],
      "execution_count": null,
      "outputs": [
        {
          "output_type": "execute_result",
          "data": {
            "text/plain": [
              "11"
            ]
          },
          "metadata": {
            "tags": []
          },
          "execution_count": 33
        }
      ]
    }
  ]
}